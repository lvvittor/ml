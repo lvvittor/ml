{
 "cells": [
  {
   "cell_type": "code",
   "execution_count": null,
   "id": "5fb97540-ee53-42f9-a57e-a589b68dee4d",
   "metadata": {},
   "outputs": [],
   "source": [
    "import pandas as pd\n",
    "import numpy as np\n",
    "import json\n",
    "from typing import List\n",
    "from sklearn.metrics import accuracy_score, confusion_matrix\n",
    "import seaborn as sns\n",
    "import matplotlib.pyplot as plt\n",
    "# from deepdiff import DeepDiff"
   ]
  },
  {
   "cell_type": "code",
   "execution_count": null,
   "id": "65e9254f-4acf-4a68-9d7f-f1957eac93fb",
   "metadata": {},
   "outputs": [],
   "source": [
    "# Load the german_credit dataset\n",
    "\n",
    "df = pd.read_csv('../data/german_credit.csv')\n",
    "df.head()"
   ]
  },
  {
   "cell_type": "code",
   "execution_count": null,
   "id": "d90fe2ab",
   "metadata": {},
   "outputs": [],
   "source": [
    "df.columns"
   ]
  },
  {
   "cell_type": "code",
   "execution_count": null,
   "id": "d74ddebb",
   "metadata": {},
   "outputs": [],
   "source": [
    "column_mapping = {\n",
    "    'Creditability': 'creditability',\n",
    "    'Account Balance': 'account_balance',\n",
    "    'Duration of Credit (month)': 'duration_of_credit_in_months',\n",
    "    'Payment Status of Previous Credit': 'payment_status_of_previous_credit',\n",
    "    'Purpose': 'purpose',\n",
    "    'Credit Amount': 'credit_amount',\n",
    "    'Value Savings/Stocks': 'savings_stocks',\n",
    "    'Length of current employment': 'length_of_current_employment',\n",
    "    'Instalment per cent': 'instalment_per_cent',\n",
    "    'Sex & Marital Status': 'sex_marital_status',\n",
    "    'Guarantors': 'guarantors',\n",
    "    'Duration in Current address': 'duration_in_current_address',\n",
    "    'Most valuable available asset': 'most_valuable_available_asset',\n",
    "    'Age (years)': 'age_in_years',\n",
    "    'Concurrent Credits': 'concurrent_credits',\n",
    "    'Type of apartment': 'type_of_apartment',\n",
    "    'No of Credits at this Bank': 'no_of_credits_at_this_bank',\n",
    "    'Occupation': 'occupation',\n",
    "    'No of dependents': 'no_of_dependents',\n",
    "    'Telephone': 'telephone',\n",
    "    'Foreign Worker': 'foreign_worker'\n",
    "}\n",
    "\n",
    "\n",
    "df.rename(columns=column_mapping, inplace=True)\n",
    "df.columns"
   ]
  },
  {
   "cell_type": "code",
   "execution_count": null,
   "id": "26c2f02d",
   "metadata": {},
   "outputs": [],
   "source": [
    "df.head()"
   ]
  },
  {
   "cell_type": "markdown",
   "id": "e9541812",
   "metadata": {},
   "source": [
    "### El conjunto de datos `german_credit.csv` contiene información sobre personas que solicitaron créditos bancarios en bancos alemanes en el año 1994. Contiene 20 variables:\n",
    "\n",
    "- `creditability`: Variable binaria que indica si el solicitante devolvió el crédito (1) o no (0).\n",
    "\n",
    "- `account_balance`: Variable que toma valores 1, 2, 3, o 4, indicando si el solicitante no tiene cuenta (1), tiene una cuenta poco balanceada (2) o bien balanceada (4).\n",
    "\n",
    "- `duration_of_credit_in_months`: Duración del crédito en meses.\n",
    "\n",
    "- `payment_status_of_previous_credit`: Variable que toma valores de 0 a 4, donde 0 indica que el solicitante no pagó y 4 indica que pagó todo en créditos previos.\n",
    "\n",
    "- `purpose`: Variable que toma valores de 0 a 10, indicando el propósito del crédito solicitado. Por ejemplo, 0 puede representar la compra de un automóvil.\n",
    "\n",
    "- `credit_amount`: Variable numérica que representa la cantidad de crédito solicitada.\n",
    "\n",
    "- `savings_stocks`: Variable que representa el dinero ahorrado, con valores de 1 a 5, donde 1 significa \"nada\", 2 significa \"≤100\", 3 significa \"(100,500]\", y 4 significa \"(500, 1000]\".\n",
    "\n",
    "- `length_of_current_employment`: Variable que toma valores de 1 a 5, representando el estado de empleo actual del solicitante, desde desempleado (1) hasta más de 7 años (5).\n",
    "\n",
    "- `instalment_per_cent`: Variable que toma valores de 1 a 4, indicando el porcentaje de financiamiento del crédito, donde 1 representa más del 35%, 2 representa (25%, 35%), 3 representa [20%, 25%), y 4 representa menos del 20%.\n",
    "\n",
    "- `sex_marital_status`: Variable que toma valores de 1 a 4, donde 1 representa \"Male, Divorced\", 2 representa \"Male, Single\", 3 representa \"Male, Married/Widowed\", y 4 representa \"Female\".\n",
    "\n",
    "- `guarantors`: Variable que toma valores de 1 a 3, indicando la presencia de garantías, desde \"Ninguno\" hasta \"garantía\".\n",
    "\n",
    "- `duration_in_current_address`: Variable que toma valores de 1 a 4, representando la duración en la dirección actual.\n",
    "\n",
    "- `most_valuable_available_asset`: Variable que toma valores de 1 a 4, representando el activo más valioso disponible, desde \"None\" hasta \"Real Estate\".\n",
    "\n",
    "- `age_in_years`: Variable numérica que representa la edad del solicitante.\n",
    "\n",
    "- `concurrent_credits`: Variable que toma valores de 1 a 3, indicando la existencia de créditos concurrentes en otros bancos o entidades financieras.\n",
    "\n",
    "- `type_of_apartment`: Variable que toma valores de 1 a 3, representando el tipo de vivienda, desde \"Free\" hasta \"Owned\".\n",
    "\n",
    "- `no_of_credits_at_this_bank`: Variable que toma valores de 1 a 4, indicando la cantidad de créditos en este banco.\n",
    "\n",
    "- `occupation`: Variable que toma valores de 1 a 4, representando la ocupación del solicitante, desde \"Unemployed\" hasta \"Executive\".\n",
    "\n",
    "- `no_of_dependents`: Variable binaria que toma valores 1 o 2, indicando si el solicitante tiene más de 3 dependientes o menos de 3.\n",
    "\n",
    "- `telephone`: Variable binaria que toma valores 1 o 2, representando si el solicitante tiene teléfono (sí o no).\n",
    "\n",
    "- `foreign_worker`: Variable binaria que toma valores 1 o 2, indicando si el solicitante es un trabajador extranjero (sí o no).\n",
    "\n"
   ]
  },
  {
   "cell_type": "markdown",
   "id": "e11a062f",
   "metadata": {},
   "source": [
    "### Transformar variables numericas a categoricas"
   ]
  },
  {
   "cell_type": "markdown",
   "id": "76eb50d2",
   "metadata": {},
   "source": [
    "#### Discretizar duration_of_credit_in_months"
   ]
  },
  {
   "cell_type": "code",
   "execution_count": null,
   "id": "be5f7c8c",
   "metadata": {},
   "outputs": [],
   "source": [
    "df.duration_of_credit_in_months.unique()"
   ]
  },
  {
   "cell_type": "code",
   "execution_count": null,
   "id": "d5b37c2f",
   "metadata": {},
   "outputs": [],
   "source": [
    "# Cada categoria representa un rango de meses.\n",
    "# 1: 0 - 12\n",
    "# 2: 12 - 24\n",
    "# 3: 24 - 36\n",
    "# 4: 36 - 48\n",
    "# 5: 48 - 60\n",
    "# 6: 60 - 72\n",
    "# 7: 72 - inf\n",
    "bins = [0, 12, 24, 36, 48, 60, 72, float('inf')] \n",
    "category_numbers = [1, 2, 3, 4, 5, 6, 7]\n",
    "df['duration_of_credit_in_months'] = pd.cut(df['duration_of_credit_in_months'], bins=bins, labels=category_numbers)\n",
    "df['duration_of_credit_in_months'] = df['duration_of_credit_in_months'].astype(int)"
   ]
  },
  {
   "cell_type": "code",
   "execution_count": null,
   "id": "06656b45",
   "metadata": {},
   "outputs": [],
   "source": [
    "df.duration_of_credit_in_months.describe()"
   ]
  },
  {
   "cell_type": "markdown",
   "id": "0a1dce4f",
   "metadata": {},
   "source": [
    "#### Discretizar credit_amount"
   ]
  },
  {
   "cell_type": "code",
   "execution_count": null,
   "id": "761376d3",
   "metadata": {},
   "outputs": [],
   "source": [
    "df.credit_amount.describe()"
   ]
  },
  {
   "cell_type": "code",
   "execution_count": null,
   "id": "32e380c9",
   "metadata": {},
   "outputs": [],
   "source": [
    "# Dividir en 4 categorias\n",
    "# 1: 0 - 2500\n",
    "# 2: 2500 - 5000\n",
    "# 3: 5000 - 7500\n",
    "# 4: 7500 - inf\n",
    "bins = [0, 2500, 5000, 7500, float('inf')]\n",
    "category_numbers = [1, 2, 3, 4]\n",
    "df['credit_amount'] = pd.cut(df['credit_amount'], bins=bins, labels=category_numbers)\n",
    "df['credit_amount'] = df['credit_amount'].astype(int)"
   ]
  },
  {
   "cell_type": "code",
   "execution_count": null,
   "id": "8f62bd74",
   "metadata": {},
   "outputs": [],
   "source": [
    "df.credit_amount.describe()"
   ]
  },
  {
   "cell_type": "markdown",
   "id": "c010dcc5",
   "metadata": {},
   "source": [
    "#### Discretizar age_in_years"
   ]
  },
  {
   "cell_type": "code",
   "execution_count": null,
   "id": "5f61bf59",
   "metadata": {},
   "outputs": [],
   "source": [
    "df.age_in_years.describe()"
   ]
  },
  {
   "cell_type": "code",
   "execution_count": null,
   "id": "eee34d8a",
   "metadata": {},
   "outputs": [],
   "source": [
    "# Dividir en 4 categorias\n",
    "# 1: 0 - 25\n",
    "# 2: 25 - 50\n",
    "# 3: 50 - 75\n",
    "# 4: 75 - inf\n",
    "bins = [0, 25, 50, 75, float('inf')]\n",
    "category_numbers = [1, 2, 3, 4]\n",
    "df['age_in_years'] = pd.cut(df['age_in_years'], bins=bins, labels=category_numbers)\n",
    "df['age_in_years'] = df['age_in_years'].astype(int)"
   ]
  },
  {
   "cell_type": "code",
   "execution_count": null,
   "id": "43970115",
   "metadata": {},
   "outputs": [],
   "source": [
    "df.age_in_years.describe()"
   ]
  },
  {
   "cell_type": "code",
   "execution_count": null,
   "id": "a33e513f",
   "metadata": {},
   "outputs": [],
   "source": [
    "# Check column data types and null values\n",
    "\n",
    "df.info()"
   ]
  },
  {
   "cell_type": "code",
   "execution_count": null,
   "id": "eadf27b6",
   "metadata": {},
   "outputs": [],
   "source": [
    "df.columns"
   ]
  },
  {
   "cell_type": "code",
   "execution_count": null,
   "id": "722d1bda",
   "metadata": {},
   "outputs": [],
   "source": [
    "print(f\"German Credit dataset with {len(df)} records and categorical columns:\\n \")\n",
    "columns = df.columns.tolist()\n",
    "for col in columns:\n",
    "    unique_values = df[col].unique()\n",
    "    print(f\"\\t{col}: {[v for v in unique_values]}\")"
   ]
  },
  {
   "cell_type": "markdown",
   "id": "ff6db382",
   "metadata": {},
   "source": [
    "# Ejercicio 1.a"
   ]
  },
  {
   "cell_type": "code",
   "execution_count": null,
   "id": "0b71839a",
   "metadata": {},
   "outputs": [],
   "source": [
    "# Dividir el conjunto de datos aleatoriamente en dos partes, el conjunto de entrenamiento y elconjunto de prueba, con un 80% de los datos para entrenamiento y un 20% para prueba.\n",
    "\n",
    "def train_test_split(df, test_size=0.2, random_state=1234):\n",
    "    train = df.sample(frac=1-test_size, random_state=random_state)\n",
    "    test = df.drop(train.index)\n",
    "    return train, test\n",
    "\n",
    "train, test = train_test_split(df, test_size=0.4, random_state=1234)"
   ]
  },
  {
   "cell_type": "code",
   "execution_count": null,
   "id": "61c5be3d-0d18-4075-b122-1c629d6c7aaa",
   "metadata": {},
   "outputs": [],
   "source": [
    "X_train = train.drop(columns=['creditability'])\n",
    "y_train = train['creditability']\n",
    "X_test = test.drop(columns=['creditability'])\n",
    "y_test = test['creditability']"
   ]
  },
  {
   "cell_type": "code",
   "execution_count": null,
   "id": "5ef5eba5",
   "metadata": {},
   "outputs": [],
   "source": [
    "X_train.head()"
   ]
  },
  {
   "cell_type": "code",
   "execution_count": null,
   "id": "828ec6f5",
   "metadata": {},
   "outputs": [],
   "source": [
    "y_train.head()"
   ]
  },
  {
   "cell_type": "code",
   "execution_count": null,
   "id": "a7a9c88f",
   "metadata": {},
   "outputs": [],
   "source": [
    "X_test.head()"
   ]
  },
  {
   "cell_type": "code",
   "execution_count": null,
   "id": "63b7554e-93a5-4559-a680-54f35bbc0f06",
   "metadata": {},
   "outputs": [],
   "source": [
    "y_test.head()"
   ]
  },
  {
   "cell_type": "markdown",
   "id": "dc3e7285",
   "metadata": {},
   "source": [
    "# Ejercicio 1.b"
   ]
  },
  {
   "attachments": {
    "image-2.png": {
     "image/png": "[encoded data removed]"
    },
    "image.png": {
     "image/png": "[encoded data removed]"
    }
   },
   "cell_type": "markdown",
   "id": "c458f2ce",
   "metadata": {},
   "source": [
    "![image.png](attachment:image.png)\n",
    "![image-2.png](attachment:image-2.png)"
   ]
  },
  {
   "cell_type": "markdown",
   "id": "0d03192e",
   "metadata": {},
   "source": [
    "## Iterative Dichotomiser 3 (ID3)"
   ]
  },
  {
   "cell_type": "markdown",
   "id": "ac5c5477",
   "metadata": {},
   "source": [
    "### Funciones auxiliares"
   ]
  },
  {
   "cell_type": "code",
   "execution_count": null,
   "id": "177d9a31",
   "metadata": {},
   "outputs": [],
   "source": [
    "def entropy(array: pd.Series):\n",
    "    \"\"\"Calculate the shannon entropy of an array of objects.\n",
    "\n",
    "    Args:\n",
    "        array: A pandas series of categorical values.\n",
    "\n",
    "    Returns:\n",
    "        entropy: The shannon entropy of the array.\n",
    "    \"\"\"\n",
    "    class_probabilities = array.value_counts() / len(array)\n",
    "    entropy_value = -np.sum(class_probabilities * np.log2(class_probabilities))\n",
    "    return entropy_value"
   ]
  },
  {
   "cell_type": "code",
   "execution_count": null,
   "id": "41b5fa68",
   "metadata": {},
   "outputs": [],
   "source": [
    "def information_gain(X: pd.DataFrame, y: pd.Series, attribute: str):\n",
    "    \"\"\"Gets the information gain of a given attribute.\n",
    "\n",
    "    Args:\n",
    "        X: The feature matrix (2D) of the dataset.\n",
    "        y: The target vector (1D) of the dataset. Also known as class labels, or dependent variable.\n",
    "        attribute: The attribute to calculate the information gain for.\n",
    "\n",
    "    Returns:\n",
    "        information_gain: The information gain of the attribute.\n",
    "    \"\"\"\n",
    "    entropy_before_split = entropy(y)\n",
    "    values = X[attribute].unique()\n",
    "    entropy_after_split = 0\n",
    "\n",
    "    for value in values:\n",
    "        subset = y[X[attribute] == value]\n",
    "        entropy_after_split += (len(subset) / len(y)) * entropy(subset)\n",
    "\n",
    "    information_gain_value = entropy_before_split - entropy_after_split\n",
    "    return information_gain_value"
   ]
  },
  {
   "cell_type": "markdown",
   "id": "030d243e",
   "metadata": {},
   "source": [
    "### Armado del arbol de decision mediante el algoritmo id3"
   ]
  },
  {
   "cell_type": "code",
   "execution_count": null,
   "id": "5553ecc2",
   "metadata": {},
   "outputs": [],
   "source": [
    "def id3(X_train: pd.DataFrame, y_train: pd.Series, attributes: List, max_depth=None, min_samples_split=1, min_info_gain=0.0) -> dict:\n",
    "    \"\"\"Builds a decision tree using the ID3 algorithm.\n",
    "\n",
    "    Args:\n",
    "        X_train: The feature matrix (2D) of the dataset.\n",
    "        y_train: The target vector (1D) of the dataset. Also known as class labels, or dependent variable.\n",
    "        attributes: The list of attributes to split on.\n",
    "        max_depth: The maximum depth of the tree (pre-pruning criterion).\n",
    "        min_samples_split: The minimum number of samples required to split a node (pre-pruning criterion).\n",
    "        min_info_gain: The minimum information gain required to split a node (pre-pruning criterion).\n",
    "\n",
    "    Returns:\n",
    "        tree: The decision tree in a nested dictionary representation.\n",
    "    \"\"\"\n",
    "\n",
    "    # If all data points belong to the same class, return a leaf node with that class\n",
    "    if len(y_train.unique()) == 1:\n",
    "        return str(y_train.iloc[0])\n",
    "    \n",
    "    majority_class = y_train.mode().iloc[0]\n",
    "\n",
    "    # If there are no more attributes to split on, return the majority class\n",
    "    if len(attributes) == 0:\n",
    "        return str(majority_class)\n",
    "    \n",
    "    # Pre-pruning criteria\n",
    "    if (max_depth is not None and max_depth <= 0) or (len(y_train) < min_samples_split):\n",
    "        return str(majority_class)\n",
    "\n",
    "    # Calculate information gain for each attribute\n",
    "    information_gains = {attribute: information_gain(X_train, y_train, attribute) for attribute in attributes}\n",
    "\n",
    "    # Choose the attribute with the highest information gain\n",
    "    best_attribute = max(information_gains, key=information_gains.get)\n",
    "\n",
    "    # Pre-pruning criteria\n",
    "    if information_gain(X_train, y_train, best_attribute) < min_info_gain:\n",
    "        return str(majority_class)\n",
    "\n",
    "    # Create a decision tree node with the best attribute\n",
    "    # Default value when classifying will be the majority class\n",
    "    tree = {str(best_attribute): {\"default\": int(majority_class)}}\n",
    "\n",
    "    # Remove the chosen attribute from the list of attributes\n",
    "    remaining_attributes = [attr for attr in attributes if attr != best_attribute]\n",
    "\n",
    "    # Recursively build the tree for each value of the best attribute\n",
    "    for value in X_train[best_attribute].unique():\n",
    "        subset = X_train[X_train[best_attribute] == value]\n",
    "        subtarget = y_train[subset.index]\n",
    "        subtree = id3(\n",
    "            X_train=subset,\n",
    "            y_train=subtarget,\n",
    "            attributes=remaining_attributes,\n",
    "            max_depth=max_depth - 1 if max_depth is not None else None,\n",
    "            min_samples_split=min_samples_split,\n",
    "            min_info_gain=min_info_gain\n",
    "        )\n",
    "        tree[str(best_attribute)][str(value)] = subtree\n",
    "\n",
    "    return tree"
   ]
  },
  {
   "cell_type": "code",
   "execution_count": null,
   "id": "b05dc4e2",
   "metadata": {},
   "outputs": [],
   "source": [
    "def id3_random_forest(X_train: pd.DataFrame, y_train: pd.Series, attributes: List, num_features: int, max_depth=None, min_samples_split=1, min_info_gain=0.0) -> dict:\n",
    "    \"\"\"Builds a decision tree using the ID3 algorithm.\n",
    "\n",
    "    Args:\n",
    "        X_train: The feature matrix (2D) of the dataset.\n",
    "        y_train: The target vector (1D) of the dataset. Also known as class labels, or dependent variable.\n",
    "        attributes: The list of attributes to split on.\n",
    "        num_features: The number of features to randomly select for each tree (Feature Randomness).\n",
    "        max_depth: The maximum depth of the tree (pre-pruning criterion).\n",
    "        min_samples_split: The minimum number of samples required to split a node (pre-pruning criterion).\n",
    "        min_info_gain: The minimum information gain required to split a node (pre-pruning criterion).\n",
    "\n",
    "    Returns:\n",
    "        tree: The decision tree in a nested dictionary representation.\n",
    "    \"\"\"\n",
    "\n",
    "    # If all data points belong to the same class, return a leaf node with that class\n",
    "    if len(y_train.unique()) == 1:\n",
    "        return str(y_train.iloc[0])\n",
    "    \n",
    "    majority_class = y_train.mode().iloc[0]\n",
    "\n",
    "    # If there are no more attributes to split on, return the majority class\n",
    "    if len(attributes) == 0:\n",
    "        return str(majority_class)\n",
    "    \n",
    "    # Pre-pruning criteria\n",
    "    if (max_depth is not None and max_depth <= 0) or (len(y_train) < min_samples_split):\n",
    "        return str(majority_class)\n",
    "    \n",
    "    # Randomly select a subset of attributes for this node (Feature Randomness)\n",
    "    selected_attributes = np.random.choice(attributes, num_features, replace=False)\n",
    "\n",
    "    # Calculate information gain for each attribute\n",
    "    information_gains = {attribute: information_gain(X_train, y_train, attribute) for attribute in selected_attributes}\n",
    "\n",
    "    # Choose the attribute with the highest information gain\n",
    "    best_attribute = max(information_gains, key=information_gains.get)\n",
    "\n",
    "    # Pre-pruning criteria\n",
    "    if information_gain(X_train, y_train, best_attribute) < min_info_gain:\n",
    "        return str(majority_class)\n",
    "\n",
    "    # Create a decision tree node with the best attribute\n",
    "    # Default value when classifying will be the majority class\n",
    "    tree = {str(best_attribute): {\"default\": int(majority_class)}}\n",
    "\n",
    "    # Remove the chosen attribute from the list of attributes\n",
    "    remaining_attributes = [attr for attr in attributes if attr != best_attribute]\n",
    "\n",
    "    # Recursively build the tree for each value of the best attribute\n",
    "    for value in X_train[best_attribute].unique():\n",
    "        subset = X_train[X_train[best_attribute] == value]\n",
    "        subtarget = y_train[subset.index]\n",
    "        subtree = id3_random_forest(\n",
    "            X_train=subset,\n",
    "            y_train=subtarget,\n",
    "            attributes=remaining_attributes,\n",
    "            num_features=num_features,\n",
    "            max_depth=max_depth - 1 if max_depth is not None else None,\n",
    "            min_samples_split=min_samples_split,\n",
    "            min_info_gain=min_info_gain\n",
    "        )\n",
    "        tree[str(best_attribute)][str(value)] = subtree\n",
    "\n",
    "    return tree"
   ]
  },
  {
   "cell_type": "code",
   "execution_count": null,
   "id": "0ed85e23",
   "metadata": {},
   "outputs": [],
   "source": [
    "def count_nodes(tree):\n",
    "    \"\"\"Count the number of nodes in a decision tree.\n",
    "\n",
    "    Args:\n",
    "        tree: The decision tree in a nested dictionary representation.\n",
    "\n",
    "    Returns:\n",
    "        count: The number of nodes in the tree.\n",
    "    \"\"\"\n",
    "    if isinstance(tree, str) or isinstance(tree, int):  # leaf node\n",
    "        return 1\n",
    "\n",
    "    count = 1  # count the current node\n",
    "\n",
    "    current_node = list(tree.keys())[0] # attribute\n",
    "\n",
    "    for branch in tree[current_node].values():\n",
    "        if isinstance(branch, dict):  # internal node\n",
    "            count += count_nodes(branch)\n",
    "\n",
    "    return count"
   ]
  },
  {
   "cell_type": "code",
   "execution_count": null,
   "id": "a421f2bd",
   "metadata": {},
   "outputs": [],
   "source": [
    "# Build the decision tree\n",
    "decision_tree = id3(X_train, y_train, attributes=X_train.columns.tolist(), min_samples_split=10, max_depth=5, min_info_gain=0.03)\n",
    "print(f\"Cantidad de nodos del arbol de decision: {count_nodes(decision_tree)}\")"
   ]
  },
  {
   "cell_type": "code",
   "execution_count": null,
   "id": "5c44604e",
   "metadata": {},
   "outputs": [],
   "source": [
    "# Pretty print the decision tree\n",
    "print(json.dumps(decision_tree, indent=4))"
   ]
  },
  {
   "cell_type": "code",
   "execution_count": null,
   "id": "6844fe6b",
   "metadata": {},
   "outputs": [],
   "source": [
    "def classify(tree: dict, sample: pd.DataFrame) -> str:\n",
    "    \"\"\"Classifies a sample using a given decision tree.\n",
    "\n",
    "    Args:\n",
    "        tree: The decision tree in a nested dictionary representation.\n",
    "        sample: The sample to classify.\n",
    "\n",
    "    Returns:\n",
    "        y_hat: The predicted class label.\n",
    "    \"\"\"\n",
    "\n",
    "    if not isinstance(tree, dict):\n",
    "        return tree\n",
    "    \n",
    "    attribute = next(iter(tree))\n",
    "    sample_value = sample[attribute]\n",
    "    \n",
    "    # Recursively classify the sample if the attribute value is in the tree\n",
    "    if sample_value in tree[attribute]:\n",
    "        return classify(tree[attribute][sample_value], sample)\n",
    "    \n",
    "    # If the attribute value is not in the tree, return the majority class\n",
    "    return tree[attribute][\"default\"]"
   ]
  },
  {
   "cell_type": "code",
   "execution_count": null,
   "id": "5720e242",
   "metadata": {},
   "outputs": [],
   "source": [
    "def evaluate_tree(tree: dict, X_test: pd.DataFrame, y_test: pd.Series) -> float:\n",
    "    \"\"\"Evaluates the accuracy of a given decision tree on a dataset.\n",
    "\n",
    "    Args:\n",
    "        tree: The decision tree in a nested dictionary representation.\n",
    "        X_test: The feature matrix (2D) of the dataset.\n",
    "        y_test: The target vector (1D) of the dataset.\n",
    "\n",
    "    Returns:\n",
    "        accuracy: The accuracy of the decision tree on the dataset.\n",
    "    \"\"\"\n",
    "    y_hats = [classify(tree, row) for _, row in X_test.iterrows()]\n",
    "    correct_predictions = sum(1 for y_hat, y in zip(y_hats, y_test) if y_hat == y)\n",
    "    \n",
    "    return correct_predictions / len(X_test)"
   ]
  },
  {
   "cell_type": "code",
   "execution_count": null,
   "id": "0a2afc5f",
   "metadata": {},
   "outputs": [],
   "source": [
    "# Evaluate the pruned decision tree on the validation data\n",
    "accuracy_before_pruning = evaluate_tree(decision_tree, X_test, y_test)\n",
    "print(f\"Accuracy before pruning: {accuracy_before_pruning:.2%}\")"
   ]
  },
  {
   "cell_type": "code",
   "execution_count": null,
   "id": "0dedd104",
   "metadata": {},
   "outputs": [],
   "source": [
    "    \n",
    "# # Evaluate the pruned decision tree on the validation data\n",
    "# accuracy_after_pruning = evaluate_tree(pruned_tree, X_test, X_test)\n",
    "# print(f\"Accuracy after pruning: {accuracy_after_pruning:.2%}\")"
   ]
  },
  {
   "cell_type": "markdown",
   "id": "ea0ffbd8",
   "metadata": {},
   "source": [
    "# Ejercicio 1.c"
   ]
  },
  {
   "cell_type": "code",
   "execution_count": null,
   "id": "130c78ce",
   "metadata": {},
   "outputs": [],
   "source": [
    "np.random.choice(20, size=10)"
   ]
  },
  {
   "cell_type": "code",
   "execution_count": null,
   "id": "45892602",
   "metadata": {},
   "outputs": [],
   "source": [
    "# Specify the number of bootstrap samples you want to generate\n",
    "nbags = 10\n",
    "\n",
    "# Get the length of your training dataset\n",
    "training_size = len(X_train)\n",
    "max_features = X_train.shape[1]\n",
    "\n",
    "# Specify the fraction of features to consider at each split\n",
    "features_per_split = 0.5\n",
    "\n",
    "# Create empty lists to store the bootstrap samples\n",
    "bags_X = []\n",
    "bags_y = []\n",
    "\n",
    "# Perform a loop to generate the bootstrap samples\n",
    "for _ in range(nbags):\n",
    "    # Generate random indices with replacement\n",
    "    indices = np.random.choice(training_size, size=training_size, replace=True)\n",
    "    \n",
    "    # Create the bootstrap samples using the indices, and reset the index\n",
    "    bag_X = X_train.iloc[indices].reset_index(drop=True)\n",
    "    bag_y = y_train.iloc[indices].reset_index(drop=True)\n",
    "\n",
    "    # Select a random subset of features\n",
    "    num_selected_features = int(features_per_split * max_features)\n",
    "    selected_feature_indices = np.random.choice(max_features, size=num_selected_features, replace=False)\n",
    "    \n",
    "    # Keep only the selected features in the bootstrap samples\n",
    "    bag_X = bag_X.iloc[:, selected_feature_indices].reset_index(drop=True)\n",
    "    \n",
    "    # Store the bootstrap samples in the corresponding lists\n",
    "    bags_X.append(bag_X)\n",
    "    bags_y.append(bag_y)"
   ]
  },
  {
   "cell_type": "code",
   "execution_count": null,
   "id": "dad83411",
   "metadata": {},
   "outputs": [],
   "source": [
    "# Check the number of the bags\n",
    "print(f\"Number of bootstrap samples: bags_X: {len(bags_X)}, bags_y: {len(bags_y)}\")\n",
    "\n",
    "# Check the size of each bootstrap sample\n",
    "print(f\"Size of each bootstrap sample: bags_X: {bags_X[0].shape}, bags_y: {bags_y[0].shape}\")"
   ]
  },
  {
   "cell_type": "code",
   "execution_count": null,
   "id": "8f5acd2b",
   "metadata": {},
   "outputs": [],
   "source": [
    "# Create empty lists to store the decision trees\n",
    "trees = []\n",
    "\n",
    "# Create a for loop to build a decision tree on each of the bootstrap samples\n",
    "for i in range(nbags):\n",
    "    print(f\"Building tree {i+1}/{nbags}\")\n",
    "    # Get the current bootstrap sample\n",
    "    bag_X = bags_X[i]\n",
    "    bag_y = bags_y[i]\n",
    "    \n",
    "    # Build a decision tree on the bootstrap sample\n",
    "    tree = id3_random_forest(X_train=bag_X, y_train=bag_y, num_features=1, attributes=bag_X.columns.tolist())\n",
    "    \n",
    "    # Add the decision tree to the list\n",
    "    trees.append(tree)"
   ]
  },
  {
   "cell_type": "code",
   "execution_count": null,
   "id": "dfc2d341",
   "metadata": {},
   "outputs": [],
   "source": [
    "# Check the difference between two trees\n",
    "# DeepDiff(trees[0], trees[1])\n",
    "\n",
    "trees_nodes = [count_nodes(tree) for tree in trees]\n",
    "print(f\"Number of nodes per tree: {trees_nodes}\")"
   ]
  },
  {
   "cell_type": "code",
   "execution_count": null,
   "id": "a2d5a7f0",
   "metadata": {},
   "outputs": [],
   "source": [
    "assert len(trees) == nbags"
   ]
  },
  {
   "cell_type": "code",
   "execution_count": null,
   "id": "8dd9b85c",
   "metadata": {},
   "outputs": [],
   "source": [
    "# Crear una lista para almacenar las predicciones de cada árbol\n",
    "predictions = [[classify(tree, X_test.iloc[i]) for i in range(len(X_test))] for tree in trees]\n",
    "print(f\"Number of predicitions trees: {len(predictions)}\", f\"Number of predictions per tree: {len(predictions[0])}\")"
   ]
  },
  {
   "cell_type": "code",
   "execution_count": null,
   "id": "5c81c12c",
   "metadata": {},
   "outputs": [],
   "source": [
    "final_predictions = [max(set(instance_preds), key=instance_preds.count) for instance_preds in zip(*predictions)]"
   ]
  },
  {
   "cell_type": "code",
   "execution_count": null,
   "id": "be990183",
   "metadata": {},
   "outputs": [],
   "source": [
    "accuracy = accuracy_score(y_test, final_predictions)\n",
    "print(\"Accuracy:\", accuracy)"
   ]
  },
  {
   "cell_type": "markdown",
   "id": "fde89b9c",
   "metadata": {},
   "source": [
    "# Ejercicio 1.d"
   ]
  },
  {
   "cell_type": "code",
   "execution_count": null,
   "id": "00560f32",
   "metadata": {},
   "outputs": [],
   "source": [
    "# Obtener las predicciones del árbol de decisión en el conjunto de prueba\n",
    "predictions = [classify(decision_tree, row) for _, row in X_test.iterrows()]\n",
    "\n",
    "# Calcular la matriz de confusión\n",
    "cm = confusion_matrix(y_test, predictions, normalize='true')\n",
    "\n",
    "# Crear un DataFrame de Pandas a partir de la matriz de confusión\n",
    "confusion_df = pd.DataFrame(cm)\n",
    "\n",
    "# Graficar la matriz de confusión utilizando Seaborn\n",
    "plt.figure(figsize=(8, 6))\n",
    "sns.heatmap(confusion_df, annot=True, cmap=\"Blues\")\n",
    "plt.xlabel(\"Predicted Labels\")\n",
    "plt.ylabel(\"True Labels\")\n",
    "plt.title(\"Confusion Matrix\")\n",
    "plt.show()\n"
   ]
  },
  {
   "cell_type": "markdown",
   "id": "35477c1e",
   "metadata": {},
   "source": [
    "# Ejercicio 1.e"
   ]
  },
  {
   "cell_type": "code",
   "execution_count": null,
   "id": "b8b9d3e8",
   "metadata": {},
   "outputs": [],
   "source": [
    "def prune_tree(tree: dict, X_train: pd.DataFrame, y_train: pd.Series) -> dict:\n",
    "    \"\"\"Prunes a given decision tree using Reduced Error Pruning (REP).\n",
    "\n",
    "    Args:\n",
    "        tree: The decision tree in a nested dictionary representation.\n",
    "        X_train: The feature matrix (2D) of the dataset.\n",
    "        y_train: The target vector (1D) of the dataset.\n",
    "\n",
    "    Returns:\n",
    "        subtree: The pruned subtree.\n",
    "    \"\"\"\n",
    "    if not isinstance(tree, dict):\n",
    "        return tree\n",
    "    \n",
    "    # Recursively prune subtrees\n",
    "    for _, subtree in tree.items():\n",
    "        for value, subsubtree in subtree.items():\n",
    "            subtree[value] = prune_tree(subsubtree, X_train, y_train)\n",
    "    \n",
    "    # Calculate accuracy before pruning\n",
    "    accuracy_before = evaluate_tree(tree, X_train, y_train)\n",
    "    \n",
    "    # Calculate accuracy after pruning (replace subtree with majority class)\n",
    "    majority_class = y_train.mode().iloc[0]\n",
    "    subtree_error = sum(evaluate_tree(subtree, X_train, y_train) for subtree in tree.values() if isinstance(subtree, dict))\n",
    "    \n",
    "    if subtree_error >= accuracy_before or majority_class is None:\n",
    "        return majority_class\n",
    "    \n",
    "    return subtree"
   ]
  }
 ],
 "metadata": {
  "kernelspec": {
   "display_name": "lisa-poetry-env",
   "language": "python",
   "name": "lisa-poetry-env"
  },
  "language_info": {
   "codemirror_mode": {
    "name": "ipython",
    "version": 3
   },
   "file_extension": ".py",
   "mimetype": "text/x-python",
   "name": "python",
   "nbconvert_exporter": "python",
   "pygments_lexer": "ipython3",
   "version": "3.10.12"
  }
 },
 "nbformat": 4,
 "nbformat_minor": 5
}
